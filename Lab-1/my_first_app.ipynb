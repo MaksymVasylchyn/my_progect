{
 "cells": [
  {
   "cell_type": "markdown",
   "id": "8575e7f2",
   "metadata": {},
   "source": []
  },
  {
   "cell_type": "markdown",
   "id": "ab314f7b",
   "metadata": {},
   "source": [
    "Моя перша програма"
   ]
  },
  {
   "cell_type": "code",
   "execution_count": 3,
   "id": "abbf02e2",
   "metadata": {},
   "outputs": [
    {
     "name": "stdout",
     "output_type": "stream",
     "text": [
      "Maksym start programming at 2025-09-20 13:44:31.960395. Lviv is the best city!\n"
     ]
    }
   ],
   "source": [
    "\n",
    "from datetime import datetime\n",
    "name = \"Maksym\"\n",
    "location = \"Lviv\"\n",
    "print(f\"{name} start programming at {datetime.now()}. {location} is the best city!\")\n"
   ]
  }
 ],
 "metadata": {
  "kernelspec": {
   "display_name": "Python 3",
   "language": "python",
   "name": "python3"
  },
  "language_info": {
   "codemirror_mode": {
    "name": "ipython",
    "version": 3
   },
   "file_extension": ".py",
   "mimetype": "text/x-python",
   "name": "python",
   "nbconvert_exporter": "python",
   "pygments_lexer": "ipython3",
   "version": "3.13.7"
  }
 },
 "nbformat": 4,
 "nbformat_minor": 5
}
