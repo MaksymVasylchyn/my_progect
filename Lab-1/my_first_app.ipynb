{
 "cells": [
  {
   "cell_type": "markdown",
   "id": "8575e7f2",
   "metadata": {},
   "source": []
  },
  {
   "cell_type": "markdown",
   "id": "482c450c",
   "metadata": {},
   "source": [
    "Пояснення\n",
    "\n",
    "Ця програма:\n",
    "\n",
    "1.Імпортує модуль datetime, щоб отримати поточний час.\n",
    "\n",
    "2.Встановлює змінні name та subject.\n",
    "\n",
    "3.Виводить привітання із зазначенням імені користувача та часу запуску.\n",
    "\n",
    "4.Додає дружнє повідомлення, яке мотивує починати навчання Python."
   ]
  },
  {
   "cell_type": "code",
   "execution_count": 4,
   "id": "c95de65a",
   "metadata": {},
   "outputs": [
    {
     "name": "stdout",
     "output_type": "stream",
     "text": [
      "Hello, Student! Today is 2025-09-20 14:03:30\n",
      "Welcome to your first steps in Python programming 🚀\n"
     ]
    }
   ],
   "source": [
    "from datetime import datetime\n",
    "\n",
    "name = \"Student\"\n",
    "subject = \"Python\"\n",
    "\n",
    "print(f\"Hello, {name}! Today is {datetime.now().strftime('%Y-%m-%d %H:%M:%S')}\")\n",
    "print(f\"Welcome to your first steps in {subject} programming 🚀\")\n"
   ]
  },
  {
   "cell_type": "markdown",
   "id": "c94b1d29",
   "metadata": {},
   "source": [
    "Моя перша програма"
   ]
  },
  {
   "cell_type": "code",
   "execution_count": 3,
   "id": "abbf02e2",
   "metadata": {},
   "outputs": [
    {
     "name": "stdout",
     "output_type": "stream",
     "text": [
      "Maksym start programming at 2025-09-20 13:44:31.960395. Lviv is the best city!\n"
     ]
    }
   ],
   "source": [
    "\n",
    "from datetime import datetime\n",
    "name = \"Maksym\"\n",
    "location = \"Lviv\"\n",
    "print(f\"{name} start programming at {datetime.now()}. {location} is the best city!\")\n"
   ]
  }
 ],
 "metadata": {
  "kernelspec": {
   "display_name": "Python 3",
   "language": "python",
   "name": "python3"
  },
  "language_info": {
   "codemirror_mode": {
    "name": "ipython",
    "version": 3
   },
   "file_extension": ".py",
   "mimetype": "text/x-python",
   "name": "python",
   "nbconvert_exporter": "python",
   "pygments_lexer": "ipython3",
   "version": "3.13.7"
  }
 },
 "nbformat": 4,
 "nbformat_minor": 5
}
