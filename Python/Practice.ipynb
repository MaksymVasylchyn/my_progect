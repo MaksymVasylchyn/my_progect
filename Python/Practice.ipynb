{
 "cells": [
  {
   "cell_type": "code",
   "execution_count": 1,
   "id": "8c6aa188",
   "metadata": {},
   "outputs": [
    {
     "name": "stdout",
     "output_type": "stream",
     "text": [
      "a <class 'str'>\n",
      "1 <class 'int'>\n",
      "b1: 1.1 <class 'float'>\n",
      "c: ['a', 1, 1.25, 'Слово', 'Змінна з текстом'] <class 'list'>\n",
      "d: {'a': 'Слово', 'b': 1, 'c': 'Змінна з текстом'} <class 'dict'>\n",
      "e: ('a', 'Змінна з текстом') <class 'tuple'>\n",
      "f: {'Змінна з текстом b', 'ss'} <class 'set'>\n"
     ]
    }
   ],
   "source": [
    "a = \"Змінна з текстом\"\n",
    "print(\"a\", type(a))\n",
    "\n",
    "b = 1\n",
    "print(b, type(b))\n",
    "\n",
    "b1 = 1.1\n",
    "print(\"b1:\", b1, type(b1))\n",
    "\n",
    "c = [\"a\", 1, 1.25, \"Слово\", a]\n",
    "print(\"c:\", c, type(c))\n",
    "\n",
    "d = {\"a\": \"Слово\", \"b\": 1, \"c\": a}\n",
    "print(\"d:\", d, type(d))\n",
    "\n",
    "e = (\"a\", a)\n",
    "print(\"e:\", e, type(e))\n",
    "\n",
    "f = {\"ss\", a + \" b\"}\n",
    "print(\"f:\", f, type(f))\n"
   ]
  },
  {
   "cell_type": "code",
   "execution_count": 2,
   "id": "07758e95",
   "metadata": {},
   "outputs": [
    {
     "name": "stdout",
     "output_type": "stream",
     "text": [
      "Перша константа: True\n",
      "Друга константа: False\n",
      "None теж працює: None\n"
     ]
    }
   ],
   "source": [
    "print(\"Перша константа:\", True)\n",
    "print(\"Друга константа:\", False)\n",
    "print(f\"None теж працює: {None}\")"
   ]
  },
  {
   "cell_type": "code",
   "execution_count": 11,
   "id": "468e875c",
   "metadata": {},
   "outputs": [
    {
     "name": "stdout",
     "output_type": "stream",
     "text": [
      "Найбільше число з [3, 7, 2]: 7\n",
      "Округлення 3.14159 до 2 знаків: 3.14\n",
      "сума чисел: 17\n"
     ]
    }
   ],
   "source": [
    "print(\"Найбільше число з [3, 7, 2]:\", max(3, 7, 2))\n",
    "print(f\"Округлення 3.14159 до 2 знаків: {round(3.14159, 2)}\")\n",
    "numbers = [1, 7, 9]\n",
    "print(\"сума чисел:\", sum(numbers))"
   ]
  },
  {
   "cell_type": "code",
   "execution_count": 12,
   "id": "79e2c5ef",
   "metadata": {},
   "outputs": [
    {
     "name": "stdout",
     "output_type": "stream",
     "text": [
      "\n",
      "Цикл while:\n",
      "Залишилось: 4\n",
      "Залишилось: 3\n",
      "Залишилось: 2\n",
      "Залишилось: 1\n",
      "Цикл for з range:\n",
      "Крок: 0\n",
      "Крок: 1\n",
      "Крок: 2\n",
      "Крок: 3\n",
      "Крок: 4\n",
      "Крок: 5\n",
      "\n",
      "Цикл for по списку:\n",
      "Фрукт: яблуко\n",
      "Фрукт: банан\n",
      "Фрукт: вишня\n"
     ]
    }
   ],
   "source": [
    "print(\"\\nЦикл while:\")\n",
    "count = 4\n",
    "while count > 0:\n",
    "    print(\"Залишилось:\", count)\n",
    "    count -= 1\n",
    "\n",
    "print(\"Цикл for з range:\")\n",
    "for i in range(6):\n",
    "    print(\"Крок:\", i)\n",
    "\n",
    "    fruits = [\"яблуко\", \"банан\", \"вишня\"]\n",
    "print(\"\\nЦикл for по списку:\")\n",
    "for fruit in fruits:\n",
    "    print(\"Фрукт:\", fruit)\n"
   ]
  },
  {
   "cell_type": "code",
   "execution_count": 20,
   "id": "bbeb54dc",
   "metadata": {},
   "outputs": [
    {
     "name": "stdout",
     "output_type": "stream",
     "text": [
      "1 є непарним\n",
      "Задовільно 😐\n"
     ]
    }
   ],
   "source": [
    "number = 1\n",
    "if number % 2 == 0:\n",
    "    print(f\"{number} є парним\")\n",
    "else:\n",
    "    print(f\"{number} є непарним\")\n",
    "\n",
    "grade = 4\n",
    "if grade == 12:\n",
    "    print(\"Відмінно! 🏆\")\n",
    "elif grade >= 10:\n",
    "    print(\"Дуже добре 👍\")\n",
    "elif grade >= 7:\n",
    "    print(\"Добре 🙂\")\n",
    "elif grade >= 4:\n",
    "    print(\"Задовільно 😐\")\n",
    "else:\n",
    "    print(\"Не склав 😢\")\n"
   ]
  },
  {
   "cell_type": "code",
   "execution_count": 21,
   "id": "bce0b300",
   "metadata": {},
   "outputs": [
    {
     "name": "stdout",
     "output_type": "stream",
     "text": [
      "Помилка: не вдалося перетворити рядок у число! \n",
      "Програма завершила роботу \n"
     ]
    }
   ],
   "source": [
    "try:\n",
    "    text = \"привіт\"\n",
    "    number = int(text)   \n",
    "    print(\"Число:\", number)\n",
    "except ValueError:\n",
    "    print(\"Помилка: не вдалося перетворити рядок у число! \")\n",
    "finally:\n",
    "    print(\"Програма завершила роботу \")\n"
   ]
  },
  {
   "cell_type": "code",
   "execution_count": 22,
   "id": "d403ce7b",
   "metadata": {},
   "outputs": [
    {
     "ename": "FileNotFoundError",
     "evalue": "[Errno 2] No such file or directory: 'READ.md'",
     "output_type": "error",
     "traceback": [
      "\u001b[31m---------------------------------------------------------------------------\u001b[39m",
      "\u001b[31mFileNotFoundError\u001b[39m                         Traceback (most recent call last)",
      "\u001b[36mCell\u001b[39m\u001b[36m \u001b[39m\u001b[32mIn[22]\u001b[39m\u001b[32m, line 1\u001b[39m\n\u001b[32m----> \u001b[39m\u001b[32m1\u001b[39m \u001b[38;5;28;01mwith\u001b[39;00m \u001b[38;5;28;43mopen\u001b[39;49m\u001b[43m(\u001b[49m\u001b[33;43m\"\u001b[39;49m\u001b[33;43mREAD.md\u001b[39;49m\u001b[33;43m\"\u001b[39;49m\u001b[43m,\u001b[49m\u001b[43m \u001b[49m\u001b[33;43m\"\u001b[39;49m\u001b[33;43mr\u001b[39;49m\u001b[33;43m\"\u001b[39;49m\u001b[43m)\u001b[49m \u001b[38;5;28;01mas\u001b[39;00m f:\n\u001b[32m      2\u001b[39m     \u001b[38;5;28;01mfor\u001b[39;00m line \u001b[38;5;129;01min\u001b[39;00m f:\n\u001b[32m      3\u001b[39m         \u001b[38;5;28mprint\u001b[39m(line)\n",
      "\u001b[36mFile \u001b[39m\u001b[32m~\\AppData\\Roaming\\Python\\Python313\\site-packages\\IPython\\core\\interactiveshell.py:343\u001b[39m, in \u001b[36m_modified_open\u001b[39m\u001b[34m(file, *args, **kwargs)\u001b[39m\n\u001b[32m    336\u001b[39m \u001b[38;5;28;01mif\u001b[39;00m file \u001b[38;5;129;01min\u001b[39;00m {\u001b[32m0\u001b[39m, \u001b[32m1\u001b[39m, \u001b[32m2\u001b[39m}:\n\u001b[32m    337\u001b[39m     \u001b[38;5;28;01mraise\u001b[39;00m \u001b[38;5;167;01mValueError\u001b[39;00m(\n\u001b[32m    338\u001b[39m         \u001b[33mf\u001b[39m\u001b[33m\"\u001b[39m\u001b[33mIPython won\u001b[39m\u001b[33m'\u001b[39m\u001b[33mt let you open fd=\u001b[39m\u001b[38;5;132;01m{\u001b[39;00mfile\u001b[38;5;132;01m}\u001b[39;00m\u001b[33m by default \u001b[39m\u001b[33m\"\u001b[39m\n\u001b[32m    339\u001b[39m         \u001b[33m\"\u001b[39m\u001b[33mas it is likely to crash IPython. If you know what you are doing, \u001b[39m\u001b[33m\"\u001b[39m\n\u001b[32m    340\u001b[39m         \u001b[33m\"\u001b[39m\u001b[33myou can use builtins\u001b[39m\u001b[33m'\u001b[39m\u001b[33m open.\u001b[39m\u001b[33m\"\u001b[39m\n\u001b[32m    341\u001b[39m     )\n\u001b[32m--> \u001b[39m\u001b[32m343\u001b[39m \u001b[38;5;28;01mreturn\u001b[39;00m \u001b[43mio_open\u001b[49m\u001b[43m(\u001b[49m\u001b[43mfile\u001b[49m\u001b[43m,\u001b[49m\u001b[43m \u001b[49m\u001b[43m*\u001b[49m\u001b[43margs\u001b[49m\u001b[43m,\u001b[49m\u001b[43m \u001b[49m\u001b[43m*\u001b[49m\u001b[43m*\u001b[49m\u001b[43mkwargs\u001b[49m\u001b[43m)\u001b[49m\n",
      "\u001b[31mFileNotFoundError\u001b[39m: [Errno 2] No such file or directory: 'READ.md'"
     ]
    }
   ],
   "source": [
    "with open(\"READ.md\", \"r\") as f:\n",
    "    for line in f:\n",
    "        print(line)"
   ]
  },
  {
   "cell_type": "code",
   "execution_count": 23,
   "id": "658dc959",
   "metadata": {},
   "outputs": [
    {
     "ename": "FileNotFoundError",
     "evalue": "[Errno 2] No such file or directory: 'READ.md'",
     "output_type": "error",
     "traceback": [
      "\u001b[31m---------------------------------------------------------------------------\u001b[39m",
      "\u001b[31mFileNotFoundError\u001b[39m                         Traceback (most recent call last)",
      "\u001b[36mCell\u001b[39m\u001b[36m \u001b[39m\u001b[32mIn[23]\u001b[39m\u001b[32m, line 1\u001b[39m\n\u001b[32m----> \u001b[39m\u001b[32m1\u001b[39m \u001b[38;5;28;01mwith\u001b[39;00m \u001b[38;5;28;43mopen\u001b[39;49m\u001b[43m(\u001b[49m\u001b[33;43m\"\u001b[39;49m\u001b[33;43mREAD.md\u001b[39;49m\u001b[33;43m\"\u001b[39;49m\u001b[43m,\u001b[49m\u001b[43m \u001b[49m\u001b[33;43m\"\u001b[39;49m\u001b[33;43mr\u001b[39;49m\u001b[33;43m\"\u001b[39;49m\u001b[43m)\u001b[49m \u001b[38;5;28;01mas\u001b[39;00m f:\n\u001b[32m      2\u001b[39m     \u001b[38;5;28;01mfor\u001b[39;00m line \u001b[38;5;129;01min\u001b[39;00m f:\n\u001b[32m      3\u001b[39m         \u001b[38;5;28mprint\u001b[39m(line)\n",
      "\u001b[36mFile \u001b[39m\u001b[32m~\\AppData\\Roaming\\Python\\Python313\\site-packages\\IPython\\core\\interactiveshell.py:343\u001b[39m, in \u001b[36m_modified_open\u001b[39m\u001b[34m(file, *args, **kwargs)\u001b[39m\n\u001b[32m    336\u001b[39m \u001b[38;5;28;01mif\u001b[39;00m file \u001b[38;5;129;01min\u001b[39;00m {\u001b[32m0\u001b[39m, \u001b[32m1\u001b[39m, \u001b[32m2\u001b[39m}:\n\u001b[32m    337\u001b[39m     \u001b[38;5;28;01mraise\u001b[39;00m \u001b[38;5;167;01mValueError\u001b[39;00m(\n\u001b[32m    338\u001b[39m         \u001b[33mf\u001b[39m\u001b[33m\"\u001b[39m\u001b[33mIPython won\u001b[39m\u001b[33m'\u001b[39m\u001b[33mt let you open fd=\u001b[39m\u001b[38;5;132;01m{\u001b[39;00mfile\u001b[38;5;132;01m}\u001b[39;00m\u001b[33m by default \u001b[39m\u001b[33m\"\u001b[39m\n\u001b[32m    339\u001b[39m         \u001b[33m\"\u001b[39m\u001b[33mas it is likely to crash IPython. If you know what you are doing, \u001b[39m\u001b[33m\"\u001b[39m\n\u001b[32m    340\u001b[39m         \u001b[33m\"\u001b[39m\u001b[33myou can use builtins\u001b[39m\u001b[33m'\u001b[39m\u001b[33m open.\u001b[39m\u001b[33m\"\u001b[39m\n\u001b[32m    341\u001b[39m     )\n\u001b[32m--> \u001b[39m\u001b[32m343\u001b[39m \u001b[38;5;28;01mreturn\u001b[39;00m \u001b[43mio_open\u001b[49m\u001b[43m(\u001b[49m\u001b[43mfile\u001b[49m\u001b[43m,\u001b[49m\u001b[43m \u001b[49m\u001b[43m*\u001b[49m\u001b[43margs\u001b[49m\u001b[43m,\u001b[49m\u001b[43m \u001b[49m\u001b[43m*\u001b[49m\u001b[43m*\u001b[49m\u001b[43mkwargs\u001b[49m\u001b[43m)\u001b[49m\n",
      "\u001b[31mFileNotFoundError\u001b[39m: [Errno 2] No such file or directory: 'READ.md'"
     ]
    }
   ],
   "source": [
    "with open(\"READ.md\", \"r\") as f:\n",
    "    for line in f:\n",
    "        print(line)"
   ]
  },
  {
   "cell_type": "code",
   "execution_count": 27,
   "id": "c0791b57",
   "metadata": {},
   "outputs": [
    {
     "name": "stdout",
     "output_type": "stream",
     "text": [
      "HELLO from READ.md\n"
     ]
    }
   ],
   "source": [
    "with open(\"READ.md\", \"r\") as f:\n",
    "    for line in f:\n",
    "        print(line)\n",
    "\n"
   ]
  },
  {
   "cell_type": "code",
   "execution_count": 28,
   "id": "d50ed7cb",
   "metadata": {},
   "outputs": [
    {
     "name": "stdout",
     "output_type": "stream",
     "text": [
      "9\n"
     ]
    }
   ],
   "source": [
    "add = lambda a, b: a + b\n",
    "print(add(3, 6))"
   ]
  },
  {
   "cell_type": "code",
   "execution_count": 29,
   "id": "3065ff25",
   "metadata": {},
   "outputs": [
    {
     "name": "stdout",
     "output_type": "stream",
     "text": [
      "10 3.14 Макс True\n"
     ]
    }
   ],
   "source": [
    "x = 10          # ціле число (int)\n",
    "y = 3.14        # число з плаваючою крапкою (float)\n",
    "name = \"Макс\"   # рядок (str)\n",
    "is_active = True # логічний тип (bool)\n",
    "\n",
    "print(x, y, name, is_active)\n"
   ]
  },
  {
   "cell_type": "code",
   "execution_count": 30,
   "id": "82a888aa",
   "metadata": {},
   "outputs": [
    {
     "name": "stdout",
     "output_type": "stream",
     "text": [
      "Доступ заборонено ❌\n"
     ]
    }
   ],
   "source": [
    "age = 17\n",
    "if age >= 18:\n",
    "    print(\"Доступ дозволено ✅\")\n",
    "else:\n",
    "    print(\"Доступ заборонено ❌\")\n"
   ]
  },
  {
   "cell_type": "code",
   "execution_count": 31,
   "id": "55be03da",
   "metadata": {},
   "outputs": [
    {
     "name": "stdout",
     "output_type": "stream",
     "text": [
      "0\n",
      "1\n",
      "2\n",
      "3\n",
      "4\n",
      "Привіт 0\n",
      "Привіт 1\n",
      "Привіт 2\n"
     ]
    }
   ],
   "source": [
    "# Цикл for\n",
    "for i in range(5):\n",
    "    print(i)\n",
    "\n",
    "# Цикл while\n",
    "count = 0\n",
    "while count < 3:\n",
    "    print(\"Привіт\", count)\n",
    "    count += 1\n"
   ]
  },
  {
   "cell_type": "code",
   "execution_count": 32,
   "id": "926a1a6a",
   "metadata": {},
   "outputs": [
    {
     "name": "stdout",
     "output_type": "stream",
     "text": [
      "Привіт, Андрій!\n"
     ]
    }
   ],
   "source": [
    "def greet(name):\n",
    "    return f\"Привіт, {name}!\"\n",
    "\n",
    "print(greet(\"Андрій\"))\n"
   ]
  },
  {
   "cell_type": "code",
   "execution_count": 37,
   "id": "71ae8bac",
   "metadata": {},
   "outputs": [
    {
     "name": "stdout",
     "output_type": "stream",
     "text": [
      "1\n",
      "1\n",
      "2\n",
      "3\n",
      "4\n",
      "5\n"
     ]
    }
   ],
   "source": [
    "numbers = [1, 2, 3, 4]\n",
    "\n",
    "# Доступ до елементів\n",
    "print(numbers[0])  # 1\n",
    "\n",
    "# Додавання елементів\n",
    "numbers.append(5)\n",
    "\n",
    "# Прохід по списку\n",
    "for n in numbers:\n",
    "    print(n)\n"
   ]
  },
  {
   "cell_type": "code",
   "execution_count": 34,
   "id": "cdd5fa51",
   "metadata": {},
   "outputs": [
    {
     "name": "stdout",
     "output_type": "stream",
     "text": [
      "Оля\n",
      "20\n"
     ]
    }
   ],
   "source": [
    "student = {\"name\": \"Оля\", \"age\": 20, \"grade\": \"A\"}\n",
    "print(student[\"name\"])     # Оля\n",
    "print(student.get(\"age\"))  # 20\n"
   ]
  },
  {
   "cell_type": "code",
   "execution_count": 35,
   "id": "5abae9e5",
   "metadata": {},
   "outputs": [
    {
     "name": "stdout",
     "output_type": "stream",
     "text": [
      "Ділення на нуль заборонено!\n",
      "Цей блок виконується завжди\n"
     ]
    }
   ],
   "source": [
    "try:\n",
    "    x = 10 / 0\n",
    "except ZeroDivisionError:\n",
    "    print(\"Ділення на нуль заборонено!\")\n",
    "finally:\n",
    "    print(\"Цей блок виконується завжди\")\n"
   ]
  },
  {
   "cell_type": "code",
   "execution_count": 36,
   "id": "358a7b95",
   "metadata": {},
   "outputs": [
    {
     "name": "stdout",
     "output_type": "stream",
     "text": [
      "Рекс каже: Гав!\n"
     ]
    }
   ],
   "source": [
    "class Dog:\n",
    "    def __init__(self, name):\n",
    "        self.name = name\n",
    "    \n",
    "    def bark(self):\n",
    "        print(f\"{self.name} каже: Гав!\")\n",
    "\n",
    "my_dog = Dog(\"Рекс\")\n",
    "my_dog.bark()\n"
   ]
  }
 ],
 "metadata": {
  "kernelspec": {
   "display_name": "Python 3",
   "language": "python",
   "name": "python3"
  },
  "language_info": {
   "codemirror_mode": {
    "name": "ipython",
    "version": 3
   },
   "file_extension": ".py",
   "mimetype": "text/x-python",
   "name": "python",
   "nbconvert_exporter": "python",
   "pygments_lexer": "ipython3",
   "version": "3.13.7"
  }
 },
 "nbformat": 4,
 "nbformat_minor": 5
}
